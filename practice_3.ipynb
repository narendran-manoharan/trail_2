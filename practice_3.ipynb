{
 "cells": [
  {
   "cell_type": "code",
   "execution_count": null,
   "id": "32070a2a",
   "metadata": {},
   "outputs": [],
   "source": [
    "# dhfvbehfnejwfernfvknae rjp"
   ]
  }
 ],
 "metadata": {
  "language_info": {
   "name": "python"
  }
 },
 "nbformat": 4,
 "nbformat_minor": 5
}
