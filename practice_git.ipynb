{
 "cells": [
  {
   "cell_type": "code",
   "execution_count": null,
   "id": "7ed62c0b",
   "metadata": {},
   "outputs": [],
   "source": [
    "# Hello world"
   ]
  },
  {
   "cell_type": "code",
   "execution_count": null,
   "id": "d71c4056",
   "metadata": {},
   "outputs": [],
   "source": []
  }
 ],
 "metadata": {
  "kernelspec": {
   "display_name": "Python 3",
   "language": "python",
   "name": "python3"
  },
  "language_info": {
   "name": "python",
   "version": "3.12.8"
  }
 },
 "nbformat": 4,
 "nbformat_minor": 5
}
